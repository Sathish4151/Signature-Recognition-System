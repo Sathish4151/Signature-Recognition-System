{
  "cells": [
    {
      "cell_type": "code",
      "execution_count": null,
      "metadata": {
        "colab": {
          "base_uri": "https://localhost:8080/"
        },
        "id": "K3Hu0eyqwbS8",
        "outputId": "c81c3c84-2a9e-47b0-fc16-fe39c30a7e13"
      },
      "outputs": [
        {
          "name": "stdout",
          "output_type": "stream",
          "text": [
            "Epoch 1/10\n",
            "42/42 [==============================] - 36s 831ms/step - loss: 5.4976 - accuracy: 0.0083 - val_loss: 4.8519 - val_accuracy: 0.0091\n",
            "Epoch 2/10\n",
            "42/42 [==============================] - 38s 901ms/step - loss: 4.8499 - accuracy: 0.0114 - val_loss: 4.8523 - val_accuracy: 0.0152\n",
            "Epoch 3/10\n",
            "42/42 [==============================] - 33s 799ms/step - loss: 4.8481 - accuracy: 0.0099 - val_loss: 4.8526 - val_accuracy: 0.0091\n",
            "Epoch 4/10\n",
            "42/42 [==============================] - 34s 806ms/step - loss: 4.8465 - accuracy: 0.0159 - val_loss: 4.8530 - val_accuracy: 0.0091\n",
            "Epoch 5/10\n",
            "42/42 [==============================] - 35s 826ms/step - loss: 4.8448 - accuracy: 0.0159 - val_loss: 4.8532 - val_accuracy: 0.0091\n",
            "Epoch 6/10\n",
            "42/42 [==============================] - 35s 829ms/step - loss: 4.8433 - accuracy: 0.0121 - val_loss: 4.8537 - val_accuracy: 0.0091\n",
            "Epoch 7/10\n",
            "42/42 [==============================] - 35s 827ms/step - loss: 4.8418 - accuracy: 0.0159 - val_loss: 4.8539 - val_accuracy: 0.0091\n",
            "Epoch 8/10\n",
            "42/42 [==============================] - 34s 824ms/step - loss: 4.8404 - accuracy: 0.0159 - val_loss: 4.8544 - val_accuracy: 0.0091\n",
            "Epoch 9/10\n",
            "42/42 [==============================] - 35s 827ms/step - loss: 4.8390 - accuracy: 0.0114 - val_loss: 4.8546 - val_accuracy: 0.0091\n",
            "Epoch 10/10\n",
            "42/42 [==============================] - 37s 885ms/step - loss: 4.8376 - accuracy: 0.0159 - val_loss: 4.8549 - val_accuracy: 0.0091\n",
            "11/11 [==============================] - 2s 152ms/step - loss: 4.8549 - accuracy: 0.0091\n",
            "Test Accuracy: 0.91%\n"
          ]
        },
        {
          "name": "stderr",
          "output_type": "stream",
          "text": [
            "/usr/local/lib/python3.10/dist-packages/keras/src/engine/training.py:3103: UserWarning: You are saving your model as an HDF5 file via `model.save()`. This file format is considered legacy. We recommend using instead the native Keras format, e.g. `model.save('my_model.keras')`.\n",
            "  saving_api.save_model(\n"
          ]
        },
        {
          "name": "stdout",
          "output_type": "stream",
          "text": [
            "1/1 [==============================] - 0s 78ms/step\n",
            "Signature is genuine: False\n"
          ]
        }
      ],
      "source": [
        "import os\n",
        "import cv2\n",
        "import numpy as np\n",
        "from sklearn.preprocessing import LabelEncoder\n",
        "from sklearn.model_selection import train_test_split\n",
        "from keras.models import Sequential\n",
        "from keras.layers import Conv2D, MaxPooling2D, Flatten, Dense, Dropout\n",
        "from keras.models import load_model\n",
        "\n",
        "def preprocess_image(image_path, img_size=(128, 128)):\n",
        "    # Read image\n",
        "    img = cv2.imread(image_path, cv2.IMREAD_GRAYSCALE)\n",
        "    if img is None:\n",
        "        raise FileNotFoundError(f\"Image not found at path: {image_path}\")\n",
        "    # Resize image\n",
        "    img = cv2.resize(img, img_size)\n",
        "    # Normalize image\n",
        "    img = img / 255.0\n",
        "    return img\n",
        "\n",
        "def load_data(data_dir, img_size=(128, 128)):\n",
        "    images = []\n",
        "    labels = []\n",
        "    for label in os.listdir(data_dir):\n",
        "        class_dir = os.path.join(data_dir, label)\n",
        "        if os.path.isdir(class_dir):\n",
        "            for img_file in os.listdir(class_dir):\n",
        "                img_path = os.path.join(class_dir, img_file)\n",
        "                img = preprocess_image(img_path, img_size)\n",
        "                images.append(img)\n",
        "                labels.append(label)\n",
        "    return np.array(images), np.array(labels)\n",
        "\n",
        "# Specify the path to your dataset directory\n",
        "data_dir = '/content/drive/MyDrive/Signature_Dataset/dataset/sign_data/train'\n",
        "\n",
        "X, y = load_data(data_dir)\n",
        "\n",
        "label_encoder = LabelEncoder()\n",
        "y_encoded = label_encoder.fit_transform(y)\n",
        "\n",
        "X_train, X_test, y_train, y_test = train_test_split(X, y_encoded, test_size=0.2, random_state=42)\n",
        "\n",
        "model = Sequential([\n",
        "    Conv2D(32, (3, 3), activation='relu', input_shape=(128, 128, 1)),\n",
        "    MaxPooling2D(pool_size=(2, 2)),\n",
        "    Dropout(0.25),\n",
        "\n",
        "    Conv2D(64, (3, 3), activation='relu'),\n",
        "    MaxPooling2D(pool_size=(2, 2)),\n",
        "    Dropout(0.25),\n",
        "\n",
        "    Flatten(),\n",
        "    Dense(128, activation='relu'),\n",
        "    Dropout(0.5),\n",
        "    Dense(len(np.unique(y_encoded)), activation='softmax')\n",
        "])\n",
        "\n",
        "model.compile(optimizer='adam', loss='sparse_categorical_crossentropy', metrics=['accuracy'])\n",
        "\n",
        "model.fit(X_train, y_train, epochs=10, validation_data=(X_test, y_test), batch_size=32)\n",
        "\n",
        "loss, accuracy = model.evaluate(X_test, y_test)\n",
        "print(f'Test Accuracy: {accuracy * 100:.2f}%')\n",
        "\n",
        "model.save('signature_recognition_model.h5')\n",
        "model = load_model('signature_recognition_model.h5')\n",
        "\n",
        "def predict_signature(image_path, true_label):\n",
        "    img = preprocess_image(image_path)\n",
        "    img = np.expand_dims(img, axis=0)\n",
        "    img = np.expand_dims(img, axis=-1)  # Add the channel dimension\n",
        "    prediction = model.predict(img)\n",
        "    predicted_label = label_encoder.inverse_transform([np.argmax(prediction)])\n",
        "    return predicted_label[0] == true_label\n",
        "\n",
        "# Update the path to point to a specific image file and the true label of the signature\n",
        "new_image_path = '/content/drive/MyDrive/Signature_Dataset/dataset/sign_data/test/049/01_049.png'\n",
        "true_label = '001'  # The true label of the signature\n",
        "is_genuine = predict_signature(new_image_path, true_label)\n",
        "print(f'Signature is genuine: {is_genuine}')\n",
        "\n"
      ]
    }
  ],
  "metadata": {
    "colab": {
      "provenance": []
    },
    "kernelspec": {
      "display_name": "Python 3",
      "name": "python3"
    },
    "language_info": {
      "name": "python",
      "version": "3.11.9"
    }
  },
  "nbformat": 4,
  "nbformat_minor": 0
}
